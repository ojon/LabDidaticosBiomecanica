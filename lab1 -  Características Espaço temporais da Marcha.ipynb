{
 "metadata": {
  "name": ""
 },
 "nbformat": 3,
 "nbformat_minor": 0,
 "worksheets": [
  {
   "cells": [
    {
     "cell_type": "code",
     "collapsed": false,
     "input": [
      "import numpy as np\n",
      "import pandas as pd\n",
      "import matplotlib.pyplot as plt\n",
      "%matplotlib inline\n",
      "    "
     ],
     "language": "python",
     "metadata": {},
     "outputs": [],
     "prompt_number": 1
    },
    {
     "cell_type": "code",
     "collapsed": false,
     "input": [
      "#tempos em segundos, ordenados respectivamente conforme o andar: lento, confort\u00e1vel e r\u00e1pido\n",
      "\n",
      "temposJoao = np.array([17.37, 12.66, 6.82])\n",
      "temposCamila = np.array([14.06, 10.94, 7.91])\n",
      "temposDamiana = np.array([13.66, 12.44, 8.97])\n",
      "\n",
      "#n\u00famero de passos, ordenados respectivamente conforme o andar: lento, confort\u00e1vel e r\u00e1pido\n",
      "passosJoao = np.array([24, 18, 14])\n",
      "passosCamila = np.array([26, 24, 18])\n",
      "passosDamiana = np.array([26, 24, 20])\n"
     ],
     "language": "python",
     "metadata": {},
     "outputs": [],
     "prompt_number": 2
    },
    {
     "cell_type": "code",
     "collapsed": false,
     "input": [
      "\n",
      "df = pd.DataFrame({'TempoJ(s)' : np.round(temposJoao, 2), \n",
      "                   'PassosJ' : np.round(passosJoao, 2),\n",
      "                   'TempoC(s)' : np.round(temposCamila, 2),\n",
      "                   'PassosC' : np.round(passosCamila,2), \n",
      "                   'TempoD(s)' : np.round(temposDamiana, 2),\n",
      "                   'PassosD' : np.round(passosDamiana,2)}, \n",
      "                \n",
      "             index = ['Lenta', 'Confort\u00e1vel', 'R\u00e1pida'])\n",
      "df"
     ],
     "language": "python",
     "metadata": {},
     "outputs": [
      {
       "html": [
        "<div style=\"max-height:1000px;max-width:1500px;overflow:auto;\">\n",
        "<table border=\"1\" class=\"dataframe\">\n",
        "  <thead>\n",
        "    <tr style=\"text-align: right;\">\n",
        "      <th></th>\n",
        "      <th>PassosC</th>\n",
        "      <th>PassosD</th>\n",
        "      <th>PassosJ</th>\n",
        "      <th>TempoC(s)</th>\n",
        "      <th>TempoD(s)</th>\n",
        "      <th>TempoJ(s)</th>\n",
        "    </tr>\n",
        "  </thead>\n",
        "  <tbody>\n",
        "    <tr>\n",
        "      <th>Lenta</th>\n",
        "      <td> 26</td>\n",
        "      <td> 26</td>\n",
        "      <td> 24</td>\n",
        "      <td> 14.06</td>\n",
        "      <td> 13.66</td>\n",
        "      <td> 17.37</td>\n",
        "    </tr>\n",
        "    <tr>\n",
        "      <th>Confort\u00e1vel</th>\n",
        "      <td> 24</td>\n",
        "      <td> 24</td>\n",
        "      <td> 18</td>\n",
        "      <td> 10.94</td>\n",
        "      <td> 12.44</td>\n",
        "      <td> 12.66</td>\n",
        "    </tr>\n",
        "    <tr>\n",
        "      <th>R\u00e1pida</th>\n",
        "      <td> 18</td>\n",
        "      <td> 20</td>\n",
        "      <td> 14</td>\n",
        "      <td>  7.91</td>\n",
        "      <td>  8.97</td>\n",
        "      <td>  6.82</td>\n",
        "    </tr>\n",
        "  </tbody>\n",
        "</table>\n",
        "</div>"
       ],
       "metadata": {},
       "output_type": "pyout",
       "prompt_number": 14,
       "text": [
        "             PassosC  PassosD  PassosJ  TempoC(s)  TempoD(s)  TempoJ(s)\n",
        "Lenta             26       26       24      14.06      13.66      17.37\n",
        "Confort\u00e1vel       24       24       18      10.94      12.44      12.66\n",
        "R\u00e1pida            18       20       14       7.91       8.97       6.82"
       ]
      }
     ],
     "prompt_number": 14
    },
    {
     "cell_type": "code",
     "collapsed": false,
     "input": [
      "'CTempo(s)' : np.round(temposCamila, 2),\n",
      "                   'CPassos' : np.round(passosCamila,2)}, "
     ],
     "language": "python",
     "metadata": {},
     "outputs": []
    },
    {
     "cell_type": "code",
     "collapsed": false,
     "input": [
      "#calculo das velocidade\n",
      "dist = 15\n",
      "\n",
      "VaJoao = dist / temposJoao\n",
      "VaCamila = dist / temposCamila\n",
      "VaDamiana = dist / temposDamiana\n",
      "\n",
      "print VaJoao\n",
      "print VaCamila\n",
      "print VaDamiana"
     ],
     "language": "python",
     "metadata": {},
     "outputs": [
      {
       "output_type": "stream",
       "stream": "stdout",
       "text": [
        "[ 0.86355786  1.18483412  2.19941349]\n",
        "[ 1.06685633  1.37111517  1.89633375]\n",
        "[ 1.09809663  1.20578778  1.6722408 ]\n"
       ]
      }
     ],
     "prompt_number": 3
    },
    {
     "cell_type": "code",
     "collapsed": false,
     "input": [
      "#calculo da cadencia de passos\n",
      "CD_Joao = passosJoao/ temposJoao\n",
      "CD_Camila = passosCamila/ temposCamila\n",
      "CD_Damiana = passosDamiana/ temposDamiana\n",
      "print CD_Joao\n",
      "print CD_Camila\n",
      "print CD_Damiana"
     ],
     "language": "python",
     "metadata": {},
     "outputs": [
      {
       "output_type": "stream",
       "stream": "stdout",
       "text": [
        "[ 1.38169257  1.42180095  2.05278592]\n",
        "[ 1.84921764  2.19378428  2.27560051]\n",
        "[ 1.9033675   1.92926045  2.2296544 ]\n"
       ]
      }
     ],
     "prompt_number": 4
    },
    {
     "cell_type": "code",
     "collapsed": false,
     "input": [
      "#calculo do comprimento m\u00e9dio do passo\n",
      "CP_Joao = 15.0 / passosJoao\n",
      "CP_Camila = 15.0 / passosCamila\n",
      "CP_Damiana = 15.0 / passosDamiana\n",
      "print CP_Joao\n",
      "print CP_Camila\n",
      "print CP_Damiana"
     ],
     "language": "python",
     "metadata": {},
     "outputs": [
      {
       "output_type": "stream",
       "stream": "stdout",
       "text": [
        "[ 0.625       0.83333333  1.07142857]\n",
        "[ 0.57692308  0.625       0.83333333]\n",
        "[ 0.57692308  0.625       0.75      ]\n"
       ]
      }
     ],
     "prompt_number": 5
    },
    {
     "cell_type": "code",
     "collapsed": false,
     "input": [
      "\n",
      "df = pd.DataFrame({'velocidade(Va)(m/s)' : np.round(VaJoao, 2), \n",
      "                   'Comprimento do Passo(CP)(m)' : np.round(CP_Joao, 2),\n",
      "                   'Cad\u00eancia(CD)(passos/s)' : np.round(CD_Joao, 2),\n",
      "                   'velocidade(Vb)(CP*CD)(m/s)' : np.round(VaJoao,2)}, \n",
      "             index = ['Lenta', 'Confort\u00e1vel', 'R\u00e1pida'])\n",
      "df"
     ],
     "language": "python",
     "metadata": {},
     "outputs": [
      {
       "html": [
        "<div style=\"max-height:1000px;max-width:1500px;overflow:auto;\">\n",
        "<table border=\"1\" class=\"dataframe\">\n",
        "  <thead>\n",
        "    <tr style=\"text-align: right;\">\n",
        "      <th></th>\n",
        "      <th>Cad\u00eancia(CD)(passos/s)</th>\n",
        "      <th>Comprimento do Passo(CP)(m)</th>\n",
        "      <th>velocidade(Va)(m/s)</th>\n",
        "      <th>velocidade(Vb)(CP*CD)(m/s)</th>\n",
        "    </tr>\n",
        "  </thead>\n",
        "  <tbody>\n",
        "    <tr>\n",
        "      <th>Lenta</th>\n",
        "      <td> 1.38</td>\n",
        "      <td> 0.62</td>\n",
        "      <td> 0.86</td>\n",
        "      <td> 0.86</td>\n",
        "    </tr>\n",
        "    <tr>\n",
        "      <th>Confort\u00e1vel</th>\n",
        "      <td> 1.42</td>\n",
        "      <td> 0.83</td>\n",
        "      <td> 1.18</td>\n",
        "      <td> 1.18</td>\n",
        "    </tr>\n",
        "    <tr>\n",
        "      <th>R\u00e1pida</th>\n",
        "      <td> 2.05</td>\n",
        "      <td> 1.07</td>\n",
        "      <td> 2.20</td>\n",
        "      <td> 2.20</td>\n",
        "    </tr>\n",
        "  </tbody>\n",
        "</table>\n",
        "</div>"
       ],
       "metadata": {},
       "output_type": "pyout",
       "prompt_number": 6,
       "text": [
        "             Cad\u00eancia(CD)(passos/s)  Comprimento do Passo(CP)(m)  \\\n",
        "Lenta                          1.38                         0.62   \n",
        "Confort\u00e1vel                    1.42                         0.83   \n",
        "R\u00e1pida                         2.05                         1.07   \n",
        "\n",
        "             velocidade(Va)(m/s)  velocidade(Vb)(CP*CD)(m/s)  \n",
        "Lenta                       0.86                        0.86  \n",
        "Confort\u00e1vel                 1.18                        1.18  \n",
        "R\u00e1pida                      2.20                        2.20  "
       ]
      }
     ],
     "prompt_number": 6
    },
    {
     "cell_type": "code",
     "collapsed": false,
     "input": [
      "df = pd.DataFrame({'velocidade(Va)(m/s)' : np.round(VaCamila, 2), \n",
      "                   'Comprimento do Passo(CP)(m)' : np.round(CP_Camila, 2),\n",
      "                   'Cad\u00eancia(CD)(passos/s)' : np.round(CD_Camila, 2),\n",
      "                   'velocidade(Vb)(CP*CD)(m/s)' : np.round(VaCamila,2)}, \n",
      "             index = ['Lenta', 'Confort\u00e1vel', 'R\u00e1pida'])\n",
      "df"
     ],
     "language": "python",
     "metadata": {},
     "outputs": [
      {
       "html": [
        "<div style=\"max-height:1000px;max-width:1500px;overflow:auto;\">\n",
        "<table border=\"1\" class=\"dataframe\">\n",
        "  <thead>\n",
        "    <tr style=\"text-align: right;\">\n",
        "      <th></th>\n",
        "      <th>Cad\u00eancia(CD)(passos/s)</th>\n",
        "      <th>Comprimento do Passo(CP)(m)</th>\n",
        "      <th>velocidade(Va)(m/s)</th>\n",
        "      <th>velocidade(Vb)(CP*CD)(m/s)</th>\n",
        "    </tr>\n",
        "  </thead>\n",
        "  <tbody>\n",
        "    <tr>\n",
        "      <th>Lenta</th>\n",
        "      <td> 1.85</td>\n",
        "      <td> 0.58</td>\n",
        "      <td> 1.07</td>\n",
        "      <td> 1.07</td>\n",
        "    </tr>\n",
        "    <tr>\n",
        "      <th>Confort\u00e1vel</th>\n",
        "      <td> 2.19</td>\n",
        "      <td> 0.62</td>\n",
        "      <td> 1.37</td>\n",
        "      <td> 1.37</td>\n",
        "    </tr>\n",
        "    <tr>\n",
        "      <th>R\u00e1pida</th>\n",
        "      <td> 2.28</td>\n",
        "      <td> 0.83</td>\n",
        "      <td> 1.90</td>\n",
        "      <td> 1.90</td>\n",
        "    </tr>\n",
        "  </tbody>\n",
        "</table>\n",
        "</div>"
       ],
       "metadata": {},
       "output_type": "pyout",
       "prompt_number": 7,
       "text": [
        "             Cad\u00eancia(CD)(passos/s)  Comprimento do Passo(CP)(m)  \\\n",
        "Lenta                          1.85                         0.58   \n",
        "Confort\u00e1vel                    2.19                         0.62   \n",
        "R\u00e1pida                         2.28                         0.83   \n",
        "\n",
        "             velocidade(Va)(m/s)  velocidade(Vb)(CP*CD)(m/s)  \n",
        "Lenta                       1.07                        1.07  \n",
        "Confort\u00e1vel                 1.37                        1.37  \n",
        "R\u00e1pida                      1.90                        1.90  "
       ]
      }
     ],
     "prompt_number": 7
    },
    {
     "cell_type": "code",
     "collapsed": false,
     "input": [
      "df = pd.DataFrame({'velocidade(Va)(m/s)' : np.round(VaDamiana, 2), \n",
      "                   'Comprimento do Passo(CP)(m)' : np.round(CP_Damiana, 2),\n",
      "                   'Cad\u00eancia(CD)(passos/s)' : np.round(CD_Damiana, 2),\n",
      "                   'velocidade(Vb)(CP*CD)(m/s)' : np.round(VaDamiana,2)}, \n",
      "             index = ['Lenta', 'Confort\u00e1vel', 'R\u00e1pida'])\n",
      "df"
     ],
     "language": "python",
     "metadata": {},
     "outputs": [
      {
       "html": [
        "<div style=\"max-height:1000px;max-width:1500px;overflow:auto;\">\n",
        "<table border=\"1\" class=\"dataframe\">\n",
        "  <thead>\n",
        "    <tr style=\"text-align: right;\">\n",
        "      <th></th>\n",
        "      <th>Cad\u00eancia(CD)(passos/s)</th>\n",
        "      <th>Comprimento do Passo(CP)(m)</th>\n",
        "      <th>velocidade(Va)(m/s)</th>\n",
        "      <th>velocidade(Vb)(CP*CD)(m/s)</th>\n",
        "    </tr>\n",
        "  </thead>\n",
        "  <tbody>\n",
        "    <tr>\n",
        "      <th>Lenta</th>\n",
        "      <td> 1.90</td>\n",
        "      <td> 0.58</td>\n",
        "      <td> 1.10</td>\n",
        "      <td> 1.10</td>\n",
        "    </tr>\n",
        "    <tr>\n",
        "      <th>Confort\u00e1vel</th>\n",
        "      <td> 1.93</td>\n",
        "      <td> 0.62</td>\n",
        "      <td> 1.21</td>\n",
        "      <td> 1.21</td>\n",
        "    </tr>\n",
        "    <tr>\n",
        "      <th>R\u00e1pida</th>\n",
        "      <td> 2.23</td>\n",
        "      <td> 0.75</td>\n",
        "      <td> 1.67</td>\n",
        "      <td> 1.67</td>\n",
        "    </tr>\n",
        "  </tbody>\n",
        "</table>\n",
        "</div>"
       ],
       "metadata": {},
       "output_type": "pyout",
       "prompt_number": 8,
       "text": [
        "             Cad\u00eancia(CD)(passos/s)  Comprimento do Passo(CP)(m)  \\\n",
        "Lenta                          1.90                         0.58   \n",
        "Confort\u00e1vel                    1.93                         0.62   \n",
        "R\u00e1pida                         2.23                         0.75   \n",
        "\n",
        "             velocidade(Va)(m/s)  velocidade(Vb)(CP*CD)(m/s)  \n",
        "Lenta                       1.10                        1.10  \n",
        "Confort\u00e1vel                 1.21                        1.21  \n",
        "R\u00e1pida                      1.67                        1.67  "
       ]
      }
     ],
     "prompt_number": 8
    },
    {
     "cell_type": "code",
     "collapsed": false,
     "input": [
      "#gr\u00e1fico CD por Va\n",
      "\n",
      "plt.figure(0)\n",
      "plt.clf\n",
      "plt.plot(VaJoao, CD_Joao, label='Joao')\n",
      "plt.plot(VaCamila, CD_Camila, label='Camila')\n",
      "plt.plot(VaDamiana, CD_Damiana, label='Damiana')\n",
      "plt.title('CD x Va')\n",
      "plt.xlabel('Va(m/s)')\n",
      "plt.ylabel('CD(passos/s)')\n",
      "plt.legend()"
     ],
     "language": "python",
     "metadata": {},
     "outputs": [
      {
       "metadata": {},
       "output_type": "pyout",
       "prompt_number": 9,
       "text": [
        "<matplotlib.legend.Legend at 0x36b1690>"
       ]
      },
      {
       "metadata": {},
       "output_type": "display_data",
       "png": "[encoded data removed]",
       "text": [
        "<matplotlib.figure.Figure at 0x351f3d0>"
       ]
      }
     ],
     "prompt_number": 9
    },
    {
     "cell_type": "code",
     "collapsed": false,
     "input": [
      "#gr\u00e1fico CP por Va\n",
      "\n",
      "plt.figure(1)\n",
      "plt.clf\n",
      "plt.plot(VaJoao, CP_Joao, label='Joao')\n",
      "plt.plot(VaCamila, CP_Camila, label='Camila')\n",
      "plt.plot(VaDamiana, CP_Damiana, label='Damiana')\n",
      "plt.title('CP x Va')\n",
      "plt.xlabel('Va(m/s)')\n",
      "plt.ylabel('CP(m)')\n",
      "plt.legend()"
     ],
     "language": "python",
     "metadata": {},
     "outputs": [
      {
       "metadata": {},
       "output_type": "pyout",
       "prompt_number": 10,
       "text": [
        "<matplotlib.legend.Legend at 0x3924650>"
       ]
      },
      {
       "metadata": {},
       "output_type": "display_data",
       "png": "[encoded data removed]",
       "text": [
        "<matplotlib.figure.Figure at 0x36be790>"
       ]
      }
     ],
     "prompt_number": 10
    },
    {
     "cell_type": "code",
     "collapsed": false,
     "input": [
      "#normaliza\u00e7\u00e3o das velocidades\n",
      "lJoao = 1\n",
      "lCamila = 0.8\n",
      "lDamiana = 0.82\n",
      "g = 9.8\n",
      "VnormJoao = VaJoao/(np.sqrt(lJoao))\n",
      "VnormCamila = VaCamila/(np.sqrt(lCamila))\n",
      "VnormDamiana = VaDamiana/(np.sqrt(lDamiana))\n",
      "print VnormJoao\n",
      "print VnormCamila\n",
      "print VnormDamiana"
     ],
     "language": "python",
     "metadata": {},
     "outputs": [
      {
       "output_type": "stream",
       "stream": "stdout",
       "text": [
        "[ 0.86355786  1.18483412  2.19941349]\n",
        "[ 1.19278164  1.53295337  2.12016559]\n",
        "[ 1.21264487  1.33156985  1.84668104]\n"
       ]
      }
     ],
     "prompt_number": 11
    },
    {
     "cell_type": "code",
     "collapsed": false,
     "input": [
      "#normaliza\u00e7\u00e3o da cadencia de passos\n",
      "CDnorm_Joao = CD_Joao  * np.sqrt(lJoao)\n",
      "CDnorm_Camila = CD_Camila  * np.sqrt(lCamila)\n",
      "CDnorm_Damiana = CD_Damiana  * np.sqrt(lDamiana)\n",
      "print CDnorm_Joao\n",
      "print CDnorm_Camila\n",
      "print CDnorm_Damiana"
     ],
     "language": "python",
     "metadata": {},
     "outputs": [
      {
       "output_type": "stream",
       "stream": "stdout",
       "text": [
        "[ 1.38169257  1.42180095  2.05278592]\n",
        "[ 1.65399054  1.96218031  2.03535897]\n",
        "[ 1.72357257  1.74701964  2.01903793]\n"
       ]
      }
     ],
     "prompt_number": 12
    },
    {
     "cell_type": "code",
     "collapsed": false,
     "input": [],
     "language": "python",
     "metadata": {},
     "outputs": [],
     "prompt_number": 12
    },
    {
     "cell_type": "code",
     "collapsed": false,
     "input": [
      "#gr\u00e1fico CDnorm por VNorm\n",
      "plt.figure(2)\n",
      "plt.clf\n",
      "plt.plot(VnormJoao, CDnorm_Joao, label='Joao')\n",
      "plt.plot(VnormCamila, CDnorm_Camila, label='Camila')\n",
      "plt.plot(VnormDamiana, CDnorm_Damiana, label='Damiana')\n",
      "plt.title('CDnorm x Vnorm')\n",
      "plt.xlabel('Vnorm')\n",
      "plt.ylabel('CDnorm')\n",
      "plt.legend(loc=4)"
     ],
     "language": "python",
     "metadata": {},
     "outputs": [
      {
       "metadata": {},
       "output_type": "pyout",
       "prompt_number": 13,
       "text": [
        "<matplotlib.legend.Legend at 0x3b60610>"
       ]
      },
      {
       "metadata": {},
       "output_type": "display_data",
       "png": "[encoded data removed]",
       "text": [
        "<matplotlib.figure.Figure at 0x392e050>"
       ]
      }
     ],
     "prompt_number": 13
    },
    {
     "cell_type": "code",
     "collapsed": false,
     "input": [
      "#gr\u00e1fico CDnorm por VNorm\n",
      "plt.figure(3)\n",
      "plt.plot(VnormJoao, CP_Joao, label='Joao')\n",
      "plt.plot(VnormCamila, CP_Camila, label='Camila')\n",
      "plt.plot(VnormDamiana, CP_Damiana, label='Damiana')\n",
      "plt.title('CP x Vnorm')\n",
      "plt.xlabel('Vnorm')\n",
      "plt.ylabel('CP')\n",
      "plt.legend(loc=4)"
     ],
     "language": "python",
     "metadata": {},
     "outputs": [
      {
       "metadata": {},
       "output_type": "pyout",
       "prompt_number": 14,
       "text": [
        "<matplotlib.legend.Legend at 0x3dbf510>"
       ]
      },
      {
       "metadata": {},
       "output_type": "display_data",
       "png": "[encoded data removed]",
       "text": [
        "<matplotlib.figure.Figure at 0x36bef10>"
       ]
      }
     ],
     "prompt_number": 14
    },
    {
     "cell_type": "code",
     "collapsed": false,
     "input": [
      "#gr\u00e1fico CDnorm por Va\n",
      "plt.figure(3)\n",
      "plt.clf()\n",
      "plt.plot(VaJoao, CDnorm_Joao, label='JoaoNorm')\n",
      "plt.plot(VaCamila, CDnorm_Camila, label='CamilaNorm')\n",
      "plt.plot(VaDamiana, CDnorm_Damiana, label='DamianaNorm')\n",
      "plt.plot(VaJoao, CD_Joao, label='Joao')\n",
      "plt.plot(VaCamila, CD_Camila, label='Camila')\n",
      "plt.plot(VaDamiana, CD_Damiana, label='Damiana')\n",
      "plt.title('CD x Va')\n",
      "plt.xlabel('Va')\n",
      "plt.ylabel('CD')\n",
      "plt.legend(loc=4)"
     ],
     "language": "python",
     "metadata": {},
     "outputs": [
      {
       "metadata": {},
       "output_type": "pyout",
       "prompt_number": 16,
       "text": [
        "<matplotlib.legend.Legend at 0x413fa50>"
       ]
      },
      {
       "metadata": {},
       "output_type": "display_data",
       "png": "[encoded data removed]",
       "text": [
        "<matplotlib.figure.Figure at 0x3de5850>"
       ]
      }
     ],
     "prompt_number": 16
    },
    {
     "cell_type": "code",
     "collapsed": false,
     "input": [
      "VaJoao*VaJoao/(g*1)"
     ],
     "language": "python",
     "metadata": {},
     "outputs": [
      {
       "metadata": {},
       "output_type": "pyout",
       "prompt_number": 17,
       "text": [
        "array([ 0.07609512,  0.14324815,  0.49361425])"
       ]
      }
     ],
     "prompt_number": 17
    },
    {
     "cell_type": "code",
     "collapsed": false,
     "input": [
      "VaCamila*VaCamila/(g*lCamila)"
     ],
     "language": "python",
     "metadata": {},
     "outputs": [
      {
       "metadata": {},
       "output_type": "pyout",
       "prompt_number": 18,
       "text": [
        "array([ 0.14517633,  0.23979041,  0.45868389])"
       ]
      }
     ],
     "prompt_number": 18
    },
    {
     "cell_type": "code",
     "collapsed": false,
     "input": [
      "VaDamiana*VaDamiana/(g*lDamiana)"
     ],
     "language": "python",
     "metadata": {},
     "outputs": [
      {
       "metadata": {},
       "output_type": "pyout",
       "prompt_number": 19,
       "text": [
        "array([ 0.15005179,  0.18092635,  0.34798274])"
       ]
      }
     ],
     "prompt_number": 19
    },
    {
     "cell_type": "code",
     "collapsed": false,
     "input": [
      "1.85*0.58"
     ],
     "language": "python",
     "metadata": {},
     "outputs": [
      {
       "metadata": {},
       "output_type": "pyout",
       "prompt_number": 17,
       "text": [
        "1.073"
       ]
      }
     ],
     "prompt_number": 17
    },
    {
     "cell_type": "code",
     "collapsed": false,
     "input": [],
     "language": "python",
     "metadata": {},
     "outputs": []
    }
   ],
   "metadata": {}
  }
 ]
}